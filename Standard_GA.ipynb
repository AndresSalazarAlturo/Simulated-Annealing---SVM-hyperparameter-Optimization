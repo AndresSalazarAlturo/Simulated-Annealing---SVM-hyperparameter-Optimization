{
 "cells": [
  {
   "cell_type": "markdown",
   "metadata": {},
   "source": [
    "### Genetic algorithm\n",
    "\n",
    "Implement a genetic algorithm (GA) with focus on the understanding the dynamics of artificial evolution through crossover, mutation, and selection mechanisms. The GA, designed in Python, simulates the evolutionary process by evolving a population of genomes over generation."
   ]
  },
  {
   "cell_type": "code",
   "execution_count": 1,
   "metadata": {},
   "outputs": [],
   "source": [
    "## Utilities\n",
    "\n",
    "import numpy as np\n",
    "import random\n",
    "import math\n",
    "import matplotlib.pyplot as plt\n",
    "\n",
    "from sklearn.datasets import fetch_openml\n",
    "from sklearn.metrics import accuracy_score,classification_report\n",
    "from sklearn.metrics import f1_score\n",
    "from sklearn import svm"
   ]
  },
  {
   "cell_type": "markdown",
   "metadata": {},
   "source": [
    "#### MNIST dataset"
   ]
  },
  {
   "cell_type": "code",
   "execution_count": 2,
   "metadata": {},
   "outputs": [
    {
     "name": "stderr",
     "output_type": "stream",
     "text": [
      "c:\\Documents\\Sussex_Files\\Semester_1\\Artificial_Life\\Final_Project\\Codes\\ALifeProject\\Lib\\site-packages\\sklearn\\datasets\\_openml.py:1022: FutureWarning: The default value of `parser` will change from `'liac-arff'` to `'auto'` in 1.4. You can set `parser='auto'` to silence this warning. Therefore, an `ImportError` will be raised from 1.4 if the dataset is dense and pandas is not installed. Note that the pandas parser may return different data types. See the Notes Section in fetch_openml's API doc for details.\n",
      "  warn(\n"
     ]
    }
   ],
   "source": [
    "## Import the data\n",
    "mnist = fetch_openml('mnist_784')"
   ]
  },
  {
   "cell_type": "code",
   "execution_count": 3,
   "metadata": {},
   "outputs": [
    {
     "data": {
      "text/plain": [
       "(70000,)"
      ]
     },
     "execution_count": 3,
     "metadata": {},
     "output_type": "execute_result"
    }
   ],
   "source": [
    "mnist.target.shape"
   ]
  },
  {
   "cell_type": "code",
   "execution_count": 4,
   "metadata": {},
   "outputs": [
    {
     "data": {
      "text/plain": [
       "0        5\n",
       "1        0\n",
       "2        4\n",
       "3        1\n",
       "4        9\n",
       "        ..\n",
       "69995    2\n",
       "69996    3\n",
       "69997    4\n",
       "69998    5\n",
       "69999    6\n",
       "Name: class, Length: 70000, dtype: category\n",
       "Categories (10, object): ['0', '1', '2', '3', ..., '6', '7', '8', '9']"
      ]
     },
     "execution_count": 4,
     "metadata": {},
     "output_type": "execute_result"
    }
   ],
   "source": [
    "mnist.target"
   ]
  },
  {
   "cell_type": "markdown",
   "metadata": {},
   "source": [
    "#### Dividing the dataset into training data and test data"
   ]
  },
  {
   "cell_type": "code",
   "execution_count": 5,
   "metadata": {},
   "outputs": [],
   "source": [
    "## np.random.permutation create an array of random numbers in the range 0 to 10000\n",
    "index_number= np.random.permutation(5000)\n",
    "## Use the index_numer variable to select the random positions in the dataset\n",
    "x1, y1 = mnist.data.loc[index_number], mnist.target.loc[index_number]\n",
    "## Reset the index, now the index are from 0 to 10000\n",
    "x1.reset_index(drop = True,inplace = True)\n",
    "y1.reset_index(drop = True,inplace = True)\n",
    "## Assing some the first 7000 values to x and y train and the rest to x and y test\n",
    "x_train , x_test = x1[:4000], x1[4000:]\n",
    "y_train , y_test = y1[:4000], y1[4000:]"
   ]
  },
  {
   "cell_type": "code",
   "execution_count": 6,
   "metadata": {},
   "outputs": [
    {
     "name": "stdout",
     "output_type": "stream",
     "text": [
      "printing the count of infinity values\n",
      "x_train contains 0 infinite values\n",
      "x_test contains 0 infinite values\n",
      "Number of NaN values present in x_train: 0\n",
      "Number of NaN values present in x_test: 0\n",
      "Number of NaN values present in y_train: 0\n",
      "Number of NaN values present in y_test: 0\n"
     ]
    }
   ],
   "source": [
    "print(\"printing the count of infinity values\") \n",
    "\n",
    "count = np.isinf(x_train).values.sum() \n",
    "print(\"x_train contains \" + str(count) + \" infinite values\") \n",
    "\n",
    "count2 = np.isinf(x_test).values.sum() \n",
    "print(\"x_test contains \" + str(count2) + \" infinite values\") \n",
    "\n",
    "count3 = x_train.isnull().sum().sum()\n",
    "print('Number of NaN values present in x_train: ' + str(count3))\n",
    "\n",
    "count4 = x_test.isnull().sum().sum()\n",
    "print('Number of NaN values present in x_test: ' + str(count4))\n",
    "\n",
    "count5 = y_train.isnull().sum().sum()\n",
    "print('Number of NaN values present in y_train: ' + str(count5))\n",
    "\n",
    "count6 = y_train.isnull().sum().sum()\n",
    "print('Number of NaN values present in y_test: ' + str(count6))"
   ]
  },
  {
   "cell_type": "markdown",
   "metadata": {},
   "source": [
    "### Create the population"
   ]
  },
  {
   "cell_type": "code",
   "execution_count": 7,
   "metadata": {},
   "outputs": [],
   "source": [
    "## Create population - Possible solution\n",
    "\n",
    "## Precomputed not use because needs an square matrix to work and it is not given in this experiment\n",
    "## Hyperparameter selected for tuning and optimization\n",
    "# kernel = ['linear', 'poly', 'rbf', 'sigmoid']\n",
    "kernel = [1, 2, 3, 4]\n",
    "C = np.arange(0.5, 15, 0.5)\n",
    "degree = np.arange(1, 10, 1)\n",
    "# gamma = ['scale', 'auto']\n",
    "gamma = [1, 2]\n",
    "coef0 = np.arange(0, 1, 0.05)\n",
    "pop_size = 5\n",
    "random.seed(1997)"
   ]
  },
  {
   "cell_type": "code",
   "execution_count": 8,
   "metadata": {},
   "outputs": [],
   "source": [
    "def create_random_hyperparameters_set(my_kernel, my_C, my_degree, my_gamma, my_coef0, p_size):\n",
    "    \"\"\"\n",
    "        Create random hyperparameters set. Uses the pre defined hyperparameters to create randomly the first genotype\n",
    "        :param kernel: List with the possible kernels\n",
    "        :param C: possible C values\n",
    "        :param degree: possible degree values\n",
    "        :param gamma: list with the gamma possibilities. 'scalar' or 'auto'\n",
    "        :param coef0: possible coef0 values\n",
    "\n",
    "        :return: list with random values for the SVM algorithm\n",
    "    \"\"\"\n",
    "    population = []\n",
    "    ## Create the output list\n",
    "    for i in range(p_size):\n",
    "        hyper_params = [random.choice(my_kernel), random.choice(my_C), random.choice(my_degree), random.choice(my_gamma), round(random.choice(my_coef0), 2)]\n",
    "        population.append(hyper_params)\n",
    "\n",
    "    return population\n",
    "\n",
    "def get_svm_fitness_GA(genotype):\n",
    "    \"\"\"\n",
    "        Creates the SVM model, train and test the model to get the fitness\n",
    "        :param genotype: List with the hyperpameters - Kernel, C, degree, gamma and coef0\n",
    "        :return: SVC F1 Score\n",
    "    \"\"\"\n",
    "    ## Re-build the hyperparams\n",
    "    ## Assign the kernel\n",
    "    # print(type(genotype[0]))\n",
    "    temp_geno = list(genotype.copy())\n",
    "    if temp_geno[0] == 1:\n",
    "        temp_geno[0] = 'linear'\n",
    "\n",
    "    elif temp_geno[0] == 2:\n",
    "        # print(\"type temp_geno: \", type(temp_geno))\n",
    "        temp_geno[0] = 'poly'\n",
    "\n",
    "    elif temp_geno[0] == 3:\n",
    "        temp_geno[0] = 'rbf'\n",
    "\n",
    "    elif temp_geno[0] == 4:\n",
    "        temp_geno[0] = 'sigmoid'\n",
    "\n",
    "    ## Assign the gamma\n",
    "    if temp_geno[3] == 1:\n",
    "        temp_geno[3] = 'scale'\n",
    "\n",
    "    elif temp_geno[3] == 2:\n",
    "        temp_geno[3] = 'auto'\n",
    "\n",
    "    my_svc = svm.SVC(kernel=temp_geno[0], C=temp_geno[1], degree=int(temp_geno[2]), gamma=temp_geno[3], coef0=temp_geno[4])\n",
    "    my_svc.fit(x_train,y_train)\n",
    "    my_result=my_svc.predict(x_test)\n",
    "    my_f1_score = f1_score(y_test, my_result, average='micro')\n",
    "    if math.isinf(my_f1_score):\n",
    "        my_f1_score = 0.99999999\n",
    "        return my_f1_score\n",
    "    # print('Accuracy :',accuracy_score(y_test,my_result))\n",
    "    # print(classification_report(y_test,result))\n",
    "    # print(f'F1 Score: {my_f1_score}')\n",
    "    return my_f1_score\n",
    "\n",
    "def get_population_fitnesses(population):\n",
    "    \"\"\"\n",
    "        Calculates the fitness for each solution\n",
    "        :param population: List that contains the possible solutions randomly generated\n",
    "        :return: The fitness (F1 score) for each solution\n",
    "    \"\"\"\n",
    "    pop_fitness = []\n",
    "    for solution in population:\n",
    "        ## Fitness is the F1 score of the solution\n",
    "        # print(f\"solution: {solution}\")\n",
    "        solution_fitness = round(get_svm_fitness_GA(solution), 2)\n",
    "        pop_fitness.append(solution_fitness)\n",
    "    return pop_fitness"
   ]
  },
  {
   "cell_type": "code",
   "execution_count": 9,
   "metadata": {},
   "outputs": [],
   "source": [
    "# pop_test = create_random_hyperparameters_set(my_kernel=kernel, my_C=C, my_degree=degree, my_gamma=gamma, my_coef0=coef0, p_size=pop_size)\n",
    "# type(pop_test)"
   ]
  },
  {
   "cell_type": "code",
   "execution_count": 10,
   "metadata": {},
   "outputs": [],
   "source": [
    "# geno = [3, 5.5, 1, 1, 0.35]\n",
    "# pop_fitness_test = get_svm_fitness_GA(geno)\n",
    "# pop_fitness_test"
   ]
  },
  {
   "cell_type": "code",
   "execution_count": 17,
   "metadata": {},
   "outputs": [
    {
     "name": "stdout",
     "output_type": "stream",
     "text": [
      "0 [2, 7.5, 8, 2, 0.65]\n",
      "1 [3, 11.0, 3, 2, 0.3]\n",
      "2 [1, 4.5, 4, 1, 0.05]\n",
      "3 [2, 4.0, 6, 1, 0.7]\n",
      "4 [1, 3.0, 9, 1, 0.3]\n",
      "5 [3, 12.5, 1, 1, 0.35]\n",
      "6 [2, 6.5, 5, 2, 0.2]\n",
      "7 [3, 10.0, 8, 1, 0.4]\n"
     ]
    }
   ],
   "source": [
    "## Basic GA rank selection\n",
    "\n",
    "pop_size = 8\n",
    "n_generations = 1     ##250\n",
    "n_genes = 5\n",
    "mutation_rate = 1/n_genes\n",
    "crossover = True\n",
    "mutate = True\n",
    "kernel_mutation_prob = 0.05\n",
    "\n",
    "fitness_over_time = []\n",
    "fitnesses_over_time = []\n",
    "pops_over_time = []\n",
    "\n",
    "## Initialise population of genomes\n",
    "population_hyper_params = create_random_hyperparameters_set(my_kernel=kernel, my_C=C, my_degree=degree, my_gamma=gamma, my_coef0=coef0, p_size=pop_size)\n",
    "for i, j in enumerate(population_hyper_params):\n",
    "    print(i, j)"
   ]
  },
  {
   "cell_type": "code",
   "execution_count": 18,
   "metadata": {},
   "outputs": [
    {
     "name": "stdout",
     "output_type": "stream",
     "text": [
      "0 0.81\n",
      "1 0.11\n",
      "2 0.91\n",
      "3 0.94\n",
      "4 0.91\n",
      "5 0.95\n",
      "6 0.9\n",
      "7 0.95\n"
     ]
    }
   ],
   "source": [
    "## Get the initial population fitnesses\n",
    "population_fitnesses = get_population_fitnesses(population_hyper_params)\n",
    "for i, j in enumerate(population_fitnesses):\n",
    "    print(i, j)"
   ]
  },
  {
   "cell_type": "code",
   "execution_count": 21,
   "metadata": {},
   "outputs": [
    {
     "name": "stdout",
     "output_type": "stream",
     "text": [
      "fitness_ranks: [1 0 6 2 4 3 5 7]\n",
      "Selection scale: [ 0  1  3  6 10 15 21 28]\n",
      "max_val: 28\n",
      "random_val_1: 1.564876634480862\n",
      "selection_scale: 3\n",
      "parent_1_genes: [1, 4.5, 4, 1, 0.05]\n",
      "parent_1_fitness: 0.91\n",
      "j: 2\n",
      "parent_1_genome_index: 6\n",
      "random_val_1: 17.172620916643158\n",
      "selection_scale: 21\n",
      "parent_1_genes: [2, 6.5, 5, 2, 0.2]\n",
      "parent_1_fitness: 0.9\n",
      "j: 6\n",
      "parent_1_genome_index: 5\n",
      "random_val_1: 27.7576562303622\n",
      "selection_scale: 28\n",
      "parent_1_genes: [3, 10.0, 8, 1, 0.4]\n",
      "parent_1_fitness: 0.95\n",
      "j: 7\n",
      "parent_1_genome_index: 7\n",
      "random_val_1: 17.75847605368863\n",
      "selection_scale: 21\n",
      "parent_1_genes: [2, 6.5, 5, 2, 0.2]\n",
      "parent_1_fitness: 0.9\n",
      "j: 6\n",
      "parent_1_genome_index: 5\n",
      "random_val_1: 3.6423770167640317\n",
      "selection_scale: 6\n",
      "parent_1_genes: [2, 4.0, 6, 1, 0.7]\n",
      "parent_1_fitness: 0.94\n",
      "j: 3\n",
      "parent_1_genome_index: 2\n",
      "random_val_1: 9.116427044868889\n",
      "selection_scale: 10\n",
      "parent_1_genes: [1, 3.0, 9, 1, 0.3]\n",
      "parent_1_fitness: 0.91\n",
      "j: 4\n",
      "parent_1_genome_index: 4\n",
      "random_val_1: 15.307995598232699\n",
      "selection_scale: 21\n",
      "parent_1_genes: [2, 6.5, 5, 2, 0.2]\n",
      "parent_1_fitness: 0.9\n",
      "j: 6\n",
      "parent_1_genome_index: 5\n",
      "random_val_1: 17.70789931083369\n",
      "selection_scale: 21\n",
      "parent_1_genes: [2, 6.5, 5, 2, 0.2]\n",
      "parent_1_fitness: 0.9\n",
      "j: 6\n",
      "parent_1_genome_index: 5\n",
      "Generation:  0\n",
      "new_pop_best_fitness:  0.95\n",
      "Best current solution:  [ 3.   10.    8.    1.    0.85]\n",
      "-------------------------------------------\n"
     ]
    },
    {
     "data": {
      "text/plain": [
       "Text(0.5, 1.0, 'Best individual performance')"
      ]
     },
     "execution_count": 21,
     "metadata": {},
     "output_type": "execute_result"
    },
    {
     "data": {
      "image/png": "[encoded data removed]",
      "text/plain": [
       "<Figure size 640x480 with 1 Axes>"
      ]
     },
     "metadata": {},
     "output_type": "display_data"
    }
   ],
   "source": [
    "initial_top_fitness = max(population_fitnesses)\n",
    "fitness_over_time.append(initial_top_fitness)\n",
    "\n",
    "pops_over_time.append(population_hyper_params)\n",
    "\n",
    "for generation in range(n_generations):\n",
    "    ## Create new population variable to store the new individuals(possible solutions)\n",
    "    new_pop = np.zeros((pop_size, n_genes))\n",
    "    # new_pop = np.zeros((pop_size, n_genes), dtype=object)\n",
    "    ## Get fitness  - Index of the best solutions from the worst to best performance\n",
    "    ## [9 3 4 6 17 1 10 ...]\n",
    "    fitness_ranks = np.argsort(population_fitnesses)\n",
    "    # print(f\"fitness_ranks: {fitness_ranks}\")\n",
    "    selection_scale = np.cumsum(range(pop_size))\n",
    "    # print(f\"Selection scale: {selection_scale}\")\n",
    "    max_val = max(selection_scale)\n",
    "    # print(f\"max_val: {max_val}\")\n",
    "\n",
    "    ## Rank selection for two parent\n",
    "    for i in range(0, pop_size):\n",
    "        ## Generate a random number for selection\n",
    "        ## random.uniform select a random value all with the same probabilities\n",
    "        random_val_1 = np.random.uniform(0, max_val)\n",
    "        # print(f\"random_val_1: {random_val_1}\")\n",
    "        ## Find the best pared based on the wheel\n",
    "        for j in range(pop_size):\n",
    "            # print(f\"selection scale before loop: {selection_scale[j]}\")\n",
    "            if random_val_1 <= selection_scale[j]:\n",
    "                # print(f\"selection_scale: {selection_scale[j]}\")\n",
    "                parent_1_genome_index = fitness_ranks[j]\n",
    "                # print(f\"parent_1_genes: {population_hyper_params[j]}\")\n",
    "                # print(f\"parent_1_fitness: {population_fitnesses[j]}\")\n",
    "                # print(f\"j: {j}\")\n",
    "                # print(f\"parent_1_genome_index: {parent_1_genome_index}\")\n",
    "                break\n",
    "\n",
    "        ## Ensure that parent_2 is different from parent_1\n",
    "        parent_2_genome_index = None\n",
    "        # while parent_2_genome_index is None:\n",
    "        while parent_2_genome_index is None or parent_2_genome_index == parent_1_genome_index:\n",
    "\n",
    "            random_val_2 = np.random.uniform(0, max_val)\n",
    "            # print(f\"random_val_2: {random_val_2}\")\n",
    "\n",
    "            for j in range(pop_size):\n",
    "                if random_val_2 <= selection_scale[j]:\n",
    "                    parent_2_genome_index = fitness_ranks[j]\n",
    "                    # print(f\"parent_2_genome_index: {parent_2_genome_index}\")\n",
    "                    break\n",
    "\n",
    "        if crossover:\n",
    "            ## Implement random crossover - Create child from crossover\n",
    "            cross_over_point = np.random.choice(range(n_genes))\n",
    "            # print(f\"Crossover point: {cross_over_point}\")\n",
    "            # print(f\"Parent one genes: {population_hyper_params[parent_1_genome_index]}\")\n",
    "            # print(f\"Parent two genes: {population_hyper_params[parent_2_genome_index]}\")\n",
    "\n",
    "            parent_1_genes_share = population_hyper_params[parent_1_genome_index][0:cross_over_point]\n",
    "            parent_2_genes_share = population_hyper_params[parent_2_genome_index][cross_over_point:]\n",
    "            # print(f\"paren_1_genes_share: {parent_1_genes_share}\")\n",
    "            # print(f\"paren_2_genes_share: {parent_2_genes_share}\")\n",
    "\n",
    "            child = np.hstack([parent_1_genes_share, parent_2_genes_share])\n",
    "\n",
    "        if mutate:\n",
    "            ## Implement mutation\n",
    "            for gene_no in range(n_genes):\n",
    "                if np.random.rand() < mutation_rate:\n",
    "                    if gene_no == 0 and np.random.rand() < kernel_mutation_prob:\n",
    "                        child[gene_no] = random.choice(kernel)\n",
    "                    elif gene_no == 1:\n",
    "                        child[gene_no] = random.choice(C)\n",
    "                    elif gene_no == 2:\n",
    "                        child[gene_no] = random.choice(degree)\n",
    "                    elif gene_no == 3 and np.random.rand() < kernel_mutation_prob:\n",
    "                        child[gene_no] = random.choice(gamma)\n",
    "                    elif gene_no == 4:\n",
    "                        child[gene_no] = random.choice(coef0)\n",
    "\n",
    "        # print(f\"New child: {child}\")\n",
    "        # print(\"i_pop\", i)\n",
    "        new_pop[i, :] = child.copy()\n",
    "        # print(f\"new_pop_type: \", type(new_pop))\n",
    "        # print(f\"new_pop: \",  new_pop)\n",
    "    print(\"Generation: \", generation)\n",
    "    new_pop_fitnesses = get_population_fitnesses(new_pop)\n",
    "    new_pop_best_fitness = max(new_pop_fitnesses)\n",
    "    print(\"new_pop_best_fitness: \", new_pop_best_fitness)\n",
    "    new_pop_best_fitness_pos = np.where(new_pop_fitnesses == new_pop_best_fitness)[0][0]\n",
    "    new_pop_best_params = new_pop[new_pop_best_fitness_pos]\n",
    "    print(\"Best current solution: \", new_pop_best_params)\n",
    "    print(\"-------------------------------------------\")\n",
    "    fitness_over_time.append(new_pop_best_fitness.copy())\n",
    "\n",
    "plt.plot(fitness_over_time)\n",
    "plt.xlabel(\"Number of generations\")\n",
    "plt.ylabel(\"Fitness\")\n",
    "plt.title(\"Best individual performance\")"
   ]
  },
  {
   "cell_type": "code",
   "execution_count": 14,
   "metadata": {},
   "outputs": [],
   "source": [
    "# import numpy as np\n",
    "\n",
    "# my_array = np.array([10, 20, 30, 40, 50])\n",
    "\n",
    "# # Find the indices of the element 30\n",
    "# indices_of_30 = np.where(my_array == 30)[0]\n",
    "\n",
    "# print(\"Indices of 30:\", indices_of_30)"
   ]
  },
  {
   "cell_type": "code",
   "execution_count": 15,
   "metadata": {},
   "outputs": [],
   "source": [
    "# new_pop_best_fitness_pos = np.where(new_pop_fitnesses == new_pop_best_fitness)[0][0]\n",
    "# new_pop_best_fitness_pos"
   ]
  },
  {
   "cell_type": "code",
   "execution_count": 16,
   "metadata": {},
   "outputs": [],
   "source": [
    "# new_pop_best_params = new_pop[new_pop_best_fitness_pos]\n",
    "# new_pop_best_params"
   ]
  }
 ],
 "metadata": {
  "kernelspec": {
   "display_name": "ALifeProject",
   "language": "python",
   "name": "python3"
  },
  "language_info": {
   "codemirror_mode": {
    "name": "ipython",
    "version": 3
   },
   "file_extension": ".py",
   "mimetype": "text/x-python",
   "name": "python",
   "nbconvert_exporter": "python",
   "pygments_lexer": "ipython3",
   "version": "3.11.4"
  }
 },
 "nbformat": 4,
 "nbformat_minor": 2
}
