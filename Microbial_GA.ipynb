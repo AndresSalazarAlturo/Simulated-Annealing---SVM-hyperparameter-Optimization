{
 "cells": [
  {
   "cell_type": "code",
   "execution_count": 1,
   "metadata": {},
   "outputs": [],
   "source": [
    "## Utilities\n",
    "\n",
    "import numpy as np\n",
    "import random\n",
    "import math\n",
    "import matplotlib.pyplot as plt\n",
    "\n",
    "from sklearn.datasets import fetch_openml\n",
    "from sklearn.metrics import accuracy_score,classification_report\n",
    "from sklearn.metrics import f1_score\n",
    "from sklearn import svm"
   ]
  },
  {
   "cell_type": "markdown",
   "metadata": {},
   "source": [
    "#### MNIST Dataset"
   ]
  },
  {
   "cell_type": "code",
   "execution_count": 2,
   "metadata": {},
   "outputs": [
    {
     "name": "stderr",
     "output_type": "stream",
     "text": [
      "c:\\Documents\\Sussex_Files\\Semester_1\\Artificial_Life\\Final_Project\\Codes\\ALifeProject\\Lib\\site-packages\\sklearn\\datasets\\_openml.py:1022: FutureWarning: The default value of `parser` will change from `'liac-arff'` to `'auto'` in 1.4. You can set `parser='auto'` to silence this warning. Therefore, an `ImportError` will be raised from 1.4 if the dataset is dense and pandas is not installed. Note that the pandas parser may return different data types. See the Notes Section in fetch_openml's API doc for details.\n",
      "  warn(\n"
     ]
    },
    {
     "data": {
      "text/plain": [
       "(70000,)"
      ]
     },
     "execution_count": 2,
     "metadata": {},
     "output_type": "execute_result"
    }
   ],
   "source": [
    "## Import the data\n",
    "mnist = fetch_openml('mnist_784')\n",
    "\n",
    "mnist.target.shape"
   ]
  },
  {
   "cell_type": "code",
   "execution_count": 3,
   "metadata": {},
   "outputs": [
    {
     "data": {
      "text/plain": [
       "0        5\n",
       "1        0\n",
       "2        4\n",
       "3        1\n",
       "4        9\n",
       "        ..\n",
       "69995    2\n",
       "69996    3\n",
       "69997    4\n",
       "69998    5\n",
       "69999    6\n",
       "Name: class, Length: 70000, dtype: category\n",
       "Categories (10, object): ['0', '1', '2', '3', ..., '6', '7', '8', '9']"
      ]
     },
     "execution_count": 3,
     "metadata": {},
     "output_type": "execute_result"
    }
   ],
   "source": [
    "mnist.target"
   ]
  },
  {
   "cell_type": "markdown",
   "metadata": {},
   "source": [
    "#### Dividing the dataset into training data and test data"
   ]
  },
  {
   "cell_type": "code",
   "execution_count": 4,
   "metadata": {},
   "outputs": [],
   "source": [
    "## np.random.permutation create an array of random numbers in the range 0 to 10000\n",
    "index_number= np.random.permutation(5000)\n",
    "## Use the index_numer variable to select the random positions in the dataset\n",
    "x1, y1 = mnist.data.loc[index_number], mnist.target.loc[index_number]\n",
    "## Reset the index, now the index are from 0 to 10000\n",
    "x1.reset_index(drop = True,inplace = True)\n",
    "y1.reset_index(drop = True,inplace = True)\n",
    "## Assing some the first 7000 values to x and y train and the rest to x and y test\n",
    "x_train , x_test = x1[:4000], x1[4000:]\n",
    "y_train , y_test = y1[:4000], y1[4000:]"
   ]
  },
  {
   "cell_type": "code",
   "execution_count": 5,
   "metadata": {},
   "outputs": [
    {
     "name": "stdout",
     "output_type": "stream",
     "text": [
      "printing the count of infinity values\n",
      "x_train contains 0 infinite values\n",
      "x_test contains 0 infinite values\n",
      "Number of NaN values present in x_train: 0\n",
      "Number of NaN values present in x_test: 0\n",
      "Number of NaN values present in y_train: 0\n",
      "Number of NaN values present in y_test: 0\n"
     ]
    }
   ],
   "source": [
    "print(\"printing the count of infinity values\") \n",
    "\n",
    "count = np.isinf(x_train).values.sum() \n",
    "print(\"x_train contains \" + str(count) + \" infinite values\") \n",
    "\n",
    "count2 = np.isinf(x_test).values.sum() \n",
    "print(\"x_test contains \" + str(count2) + \" infinite values\") \n",
    "\n",
    "count3 = x_train.isnull().sum().sum()\n",
    "print('Number of NaN values present in x_train: ' + str(count3))\n",
    "\n",
    "count4 = x_test.isnull().sum().sum()\n",
    "print('Number of NaN values present in x_test: ' + str(count4))\n",
    "\n",
    "count5 = y_train.isnull().sum().sum()\n",
    "print('Number of NaN values present in y_train: ' + str(count5))\n",
    "\n",
    "count6 = y_train.isnull().sum().sum()\n",
    "print('Number of NaN values present in y_test: ' + str(count6))"
   ]
  },
  {
   "cell_type": "markdown",
   "metadata": {},
   "source": [
    "### Create the population"
   ]
  },
  {
   "cell_type": "code",
   "execution_count": 6,
   "metadata": {},
   "outputs": [],
   "source": [
    "## Create population - Possible solution\n",
    "\n",
    "## Precomputed not use because needs an square matrix to work and it is not given in this experiment\n",
    "## Hyperparameter selected for tuning and optimization\n",
    "# kernel = ['linear', 'poly', 'rbf', 'sigmoid']\n",
    "kernel = [1, 2, 3, 4]\n",
    "C = np.arange(0.5, 15, 0.5)\n",
    "degree = np.arange(1, 10, 1)\n",
    "# gamma = ['scale', 'auto']\n",
    "gamma = [1, 2]\n",
    "coef0 = np.arange(0, 1, 0.05)\n",
    "pop_size = 5\n",
    "random.seed(1997)"
   ]
  },
  {
   "cell_type": "markdown",
   "metadata": {},
   "source": [
    "#### Utils"
   ]
  },
  {
   "cell_type": "code",
   "execution_count": 7,
   "metadata": {},
   "outputs": [],
   "source": [
    "def create_random_hyperparameters_set(my_kernel, my_C, my_degree, my_gamma, my_coef0, p_size):\n",
    "    \"\"\"\n",
    "        Create random hyperparameters set. Uses the pre defined hyperparameters to create randomly the first genotype\n",
    "        :param kernel: List with the possible kernels\n",
    "        :param C: possible C values\n",
    "        :param degree: possible degree values\n",
    "        :param gamma: list with the gamma possibilities. 'scalar' or 'auto'\n",
    "        :param coef0: possible coef0 values\n",
    "\n",
    "        :return: list with random values for the SVM algorithm\n",
    "    \"\"\"\n",
    "    population = []\n",
    "    ## Create the output list\n",
    "    for i in range(p_size):\n",
    "        hyper_params = [random.choice(my_kernel), random.choice(my_C), random.choice(my_degree), random.choice(my_gamma), round(random.choice(my_coef0), 2)]\n",
    "        population.append(hyper_params)\n",
    "\n",
    "    return population\n",
    "\n",
    "def get_svm_fitness_GA(genotype):\n",
    "    \"\"\"\n",
    "        Creates the SVM model, train and test the model to get the fitness\n",
    "        :param genotype: List with the hyperpameters - Kernel, C, degree, gamma and coef0\n",
    "        :return: SVC F1 Score\n",
    "    \"\"\"\n",
    "    ## Re-build the hyperparams\n",
    "    ## Assign the kernel\n",
    "    # print(type(genotype[0]))\n",
    "    temp_geno = list(genotype.copy())\n",
    "    if temp_geno[0] == 1:\n",
    "        temp_geno[0] = 'linear'\n",
    "\n",
    "    elif temp_geno[0] == 2:\n",
    "        # print(\"type temp_geno: \", type(temp_geno))\n",
    "        temp_geno[0] = 'poly'\n",
    "\n",
    "    elif temp_geno[0] == 3:\n",
    "        temp_geno[0] = 'rbf'\n",
    "\n",
    "    elif temp_geno[0] == 4:\n",
    "        temp_geno[0] = 'sigmoid'\n",
    "\n",
    "    ## Assign the gamma\n",
    "    if temp_geno[3] == 1:\n",
    "        temp_geno[3] = 'scale'\n",
    "\n",
    "    elif temp_geno[3] == 2:\n",
    "        temp_geno[3] = 'auto'\n",
    "\n",
    "    my_svc = svm.SVC(kernel=temp_geno[0], C=temp_geno[1], degree=int(temp_geno[2]), gamma=temp_geno[3], coef0=temp_geno[4])\n",
    "    my_svc.fit(x_train,y_train)\n",
    "    my_result=my_svc.predict(x_test)\n",
    "    my_f1_score = f1_score(y_test, my_result, average='micro')\n",
    "    if math.isinf(my_f1_score):\n",
    "        my_f1_score = 0.99999999\n",
    "        return my_f1_score\n",
    "    # print('Accuracy :',accuracy_score(y_test,my_result))\n",
    "    # print(classification_report(y_test,result))\n",
    "    # print(f'F1 Score: {my_f1_score}')\n",
    "    return my_f1_score\n",
    "\n",
    "def get_population_fitnesses(population):\n",
    "    \"\"\"\n",
    "        Calculates the fitness for each solution\n",
    "        :param population: List that contains the possible solutions randomly generated\n",
    "        :return: The fitness (F1 score) for each solution\n",
    "    \"\"\"\n",
    "    pop_fitness = []\n",
    "    for solution in population:\n",
    "        ## Fitness is the F1 score of the solution\n",
    "        # print(f\"solution: {solution}\")\n",
    "        solution_fitness = round(get_svm_fitness_GA(solution), 2)\n",
    "        pop_fitness.append(solution_fitness)\n",
    "    return pop_fitness"
   ]
  },
  {
   "cell_type": "code",
   "execution_count": 8,
   "metadata": {},
   "outputs": [],
   "source": [
    "# pop_test = create_random_hyperparameters_set(my_kernel=kernel, my_C=C, my_degree=degree, my_gamma=gamma, my_coef0=coef0, p_size=pop_size)\n",
    "# type(pop_test)"
   ]
  },
  {
   "cell_type": "code",
   "execution_count": 9,
   "metadata": {},
   "outputs": [],
   "source": [
    "# geno = [3, 5.5, 1, 1, 0.35]\n",
    "# pop_fitness_test = get_svm_fitness_GA(geno)\n",
    "# pop_fitness_test"
   ]
  },
  {
   "cell_type": "code",
   "execution_count": 11,
   "metadata": {},
   "outputs": [
    {
     "name": "stdout",
     "output_type": "stream",
     "text": [
      "0 [3, 12.0, 5, 2, 0.0]\n",
      "1 [4, 6.5, 4, 1, 0.35]\n",
      "2 [3, 7.0, 5, 1, 0.15]\n",
      "3 [4, 10.0, 5, 1, 0.8]\n",
      "4 [3, 12.5, 7, 2, 0.55]\n",
      "5 [3, 12.5, 2, 2, 0.7]\n",
      "6 [1, 14.5, 3, 2, 0.45]\n",
      "7 [3, 8.5, 1, 2, 0.85]\n",
      "0 0.1\n",
      "1 0.77\n",
      "2 0.96\n",
      "3 0.75\n",
      "4 0.1\n",
      "5 0.1\n",
      "6 0.92\n",
      "7 0.1\n"
     ]
    },
    {
     "data": {
      "text/plain": [
       "Text(0.5, 1.0, 'Microbial GA')"
      ]
     },
     "execution_count": 11,
     "metadata": {},
     "output_type": "execute_result"
    },
    {
     "data": {
      "image/png": "[encoded data removed]",
      "text/plain": [
       "<Figure size 640x480 with 1 Axes>"
      ]
     },
     "metadata": {},
     "output_type": "display_data"
    }
   ],
   "source": [
    "# setup variables\n",
    "pop_size = 8                    ## Possible solutions\n",
    "n_genes = 5                     ## SVM hyperparameters\n",
    "n_generations = 250\n",
    "kernel_mutation_prob = 0.05\n",
    "CROSSOVER_MUTATION = True\n",
    "total_fitness = []\n",
    "\n",
    "## Initial population\n",
    "population_hyper_params = create_random_hyperparameters_set(my_kernel=kernel, my_C=C, my_degree=degree, my_gamma=gamma, my_coef0=coef0, p_size=pop_size)\n",
    "for i, j in enumerate(population_hyper_params):\n",
    "    print(i, j)\n",
    "\n",
    "## Calculating the fitness for the initial population\n",
    "## Get the initial population fitnesses\n",
    "population_fitnesses = get_population_fitnesses(population_hyper_params)\n",
    "for i, j in enumerate(population_fitnesses):\n",
    "    print(i, j)\n",
    "\n",
    "for gen in range(n_generations):\n",
    "\n",
    "    ##Get a random individual, here get the index to then look for the fitness of that individual\n",
    "    rand_p1 = np.random.choice(range(5))\n",
    "    rand_p2 = np.random.choice(range(5))\n",
    "\n",
    "    ##Check that we are not using the same individual\n",
    "    if rand_p1 == rand_p2:\n",
    "        while rand_p1 == rand_p2:\n",
    "            rand_p1 = np.random.choice(range(5))\n",
    "            rand_p2 = np.random.choice(range(5))\n",
    "\n",
    "    ##Get the fitness for the two random individuals\n",
    "    p1 = population_fitnesses[rand_p1]\n",
    "    p2 = population_fitnesses[rand_p2]\n",
    "\n",
    "    ##Tournament selection\n",
    "    if (p1 > p2):\n",
    "        ##This is the winner index in fitness vector\n",
    "        winner = rand_p1\n",
    "        loser = rand_p2\n",
    "    else:\n",
    "        winner = rand_p2\n",
    "        loser = rand_p1\n",
    "\n",
    "    ##Microbial GA\n",
    "    #Crossover probability\n",
    "    pc = 0.1\n",
    "    #Mutation probability\n",
    "    pm = 0.1\n",
    "\n",
    "    ## Mutation and Crossover - Microbial GA\n",
    "    for i in range(n_genes):\n",
    "        if CROSSOVER_MUTATION:\n",
    "            ##Crossover\n",
    "            if (random.random() < pc):\n",
    "                ##Replace the loser genes to the winner genes\n",
    "                population_hyper_params[loser][i] = population_hyper_params[winner][i]\n",
    "            ##Mutation\n",
    "            elif (random.random() < pm):\n",
    "                ## Implement mutation\n",
    "                    if i == 0 and np.random.rand() < kernel_mutation_prob:\n",
    "                        population_hyper_params[loser][i] = random.choice(kernel)\n",
    "                    elif i == 1:\n",
    "                        population_hyper_params[loser][i] = random.choice(C)\n",
    "                    elif i == 2:\n",
    "                        population_hyper_params[loser][i] = random.choice(degree)\n",
    "                    elif i == 3 and np.random.rand() < kernel_mutation_prob:\n",
    "                        population_hyper_params[loser][i] = random.choice(gamma)\n",
    "                    elif i == 4:\n",
    "                        population_hyper_params[loser][i] = random.choice(coef0)\n",
    "        else:\n",
    "            ##Mutation - Uncomment to test the algorithm just with mutation\n",
    "            if (random.random() < pm): \n",
    "                ## Implement mutation\n",
    "                    if i == 0 and np.random.rand() < kernel_mutation_prob:\n",
    "                        population_hyper_params[loser][i] = random.choice(kernel)\n",
    "                    elif i == 1:\n",
    "                        population_hyper_params[loser][i] = random.choice(C)\n",
    "                    elif i == 2:\n",
    "                        population_hyper_params[loser][i] = random.choice(degree)\n",
    "                    elif i == 3 and np.random.rand() < kernel_mutation_prob:\n",
    "                        population_hyper_params[loser][i] = random.choice(gamma)\n",
    "                    elif i == 4:\n",
    "                        population_hyper_params[loser][i] = random.choice(coef0)\n",
    "\n",
    "    ## Update loser fitness in population - calculate the fitness of the loser\n",
    "    population_fitnesses[loser] = 0\n",
    "    population_fitnesses[loser] = get_svm_fitness_GA(population_hyper_params[loser])\n",
    "\n",
    "    ## My optimal actual fitness\n",
    "    optimal = max(population_fitnesses)\n",
    "\n",
    "    ## Store the fitness through generations and compare with diferent probabilities to crossover and mutation(pc and pm)\n",
    "    total_fitness.append(optimal)\n",
    "\n",
    "plt.plot(total_fitness)\n",
    "plt.xlabel(\"Number of generations\")\n",
    "plt.ylabel(\"Total fitness\")\n",
    "plt.title(\"Microbial GA\")"
   ]
  },
  {
   "cell_type": "code",
   "execution_count": null,
   "metadata": {},
   "outputs": [],
   "source": []
  }
 ],
 "metadata": {
  "kernelspec": {
   "display_name": "ALifeProject",
   "language": "python",
   "name": "python3"
  },
  "language_info": {
   "codemirror_mode": {
    "name": "ipython",
    "version": 3
   },
   "file_extension": ".py",
   "mimetype": "text/x-python",
   "name": "python",
   "nbconvert_exporter": "python",
   "pygments_lexer": "ipython3",
   "version": "3.11.4"
  }
 },
 "nbformat": 4,
 "nbformat_minor": 2
}
